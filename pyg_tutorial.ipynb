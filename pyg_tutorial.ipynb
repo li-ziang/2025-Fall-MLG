{
  "cells": [
    {
      "cell_type": "code",
      "execution_count": null,
      "id": "0bf79337",
      "metadata": {
        "id": "0bf79337"
      },
      "outputs": [],
      "source": [
        "# https://pytorch-geometric.readthedocs.io/en/2.6.1/get_started/introduction.html\n",
        "# Author: Ziang Li. 08/28/2025"
      ]
    },
    {
      "cell_type": "code",
      "source": [
        "# Install required packages.\n",
        "! pip install torch==2.7.1+cu128  \\\n",
        "  --extra-index-url https://download.pytorch.org/whl/cu128\n",
        "import os\n",
        "import torch\n",
        "os.environ['TORCH'] = torch.__version__\n",
        "print(torch.__version__)\n",
        "\n",
        "!pip install -q torch-scatter -f https://data.pyg.org/whl/torch-${TORCH}.html\n",
        "!pip install -q torch-sparse -f https://data.pyg.org/whl/torch-${TORCH}.html\n",
        "!pip install -q git+https://github.com/pyg-team/pytorch_geometric.git\n",
        "!pip install -q torchmetrics\n",
        "\n",
        "%matplotlib inline\n",
        "import matplotlib.pyplot as plt"
      ],
      "metadata": {
        "id": "FcKSAyZlY4BP",
        "outputId": "62060082-d698-4b1a-e982-8fb0cab29aac",
        "colab": {
          "base_uri": "https://localhost:8080/"
        }
      },
      "id": "FcKSAyZlY4BP",
      "execution_count": 1,
      "outputs": [
        {
          "output_type": "stream",
          "name": "stdout",
          "text": [
            "2.7.1+cu128\n",
            "  Installing build dependencies ... \u001b[?25l\u001b[?25hdone\n",
            "  Getting requirements to build wheel ... \u001b[?25l\u001b[?25hdone\n",
            "  Preparing metadata (pyproject.toml) ... \u001b[?25l\u001b[?25hdone\n",
            "  Building wheel for torch-geometric (pyproject.toml) ... \u001b[?25l\u001b[?25hdone\n",
            "\u001b[2K   \u001b[90m━━━━━━━━━━━━━━━━━━━━━━━━━━━━━━━━━━━━━━━━\u001b[0m \u001b[32m983.2/983.2 kB\u001b[0m \u001b[31m17.3 MB/s\u001b[0m eta \u001b[36m0:00:00\u001b[0m\n",
            "\u001b[?25h"
          ]
        }
      ]
    },
    {
      "cell_type": "code",
      "source": [
        "# adapt from https://colab.research.google.com/drive/1h3-vJGRVloF5zStxL5I0rSy4ZUPNsjy8?usp=sharing#scrollTo=zF5bw3m9UrMy\n",
        "%matplotlib inline\n",
        "import networkx as nx\n",
        "import matplotlib.pyplot as plt\n",
        "\n",
        "\n",
        "def visualize_graph(G, color):\n",
        "    plt.figure(figsize=(5,5))\n",
        "    plt.xticks([])\n",
        "    plt.yticks([])\n",
        "    nx.draw_networkx(G, pos=nx.spring_layout(G, seed=42), with_labels=False,\n",
        "                     node_color=color, cmap=\"Set2\")\n",
        "    plt.show()\n",
        "\n",
        "\n",
        "def visualize_embedding(h, color, epoch=None, loss=None):\n",
        "    plt.figure(figsize=(7,7))\n",
        "    plt.xticks([])\n",
        "    plt.yticks([])\n",
        "    h = h.detach().cpu().numpy()\n",
        "    plt.scatter(h[:, 0], h[:, 1], s=140, c=color, cmap=\"Set2\")\n",
        "    if epoch is not None and loss is not None:\n",
        "        plt.xlabel(f'Epoch: {epoch}, Loss: {loss.item():.4f}', fontsize=16)\n",
        "    plt.show()"
      ],
      "metadata": {
        "id": "dBrfEFdbcWGK"
      },
      "id": "dBrfEFdbcWGK",
      "execution_count": null,
      "outputs": []
    },
    {
      "cell_type": "markdown",
      "id": "586efbb2",
      "metadata": {
        "id": "586efbb2"
      },
      "source": [
        "# How to Construct a graph"
      ]
    },
    {
      "cell_type": "markdown",
      "id": "8d62e2fe",
      "metadata": {
        "id": "8d62e2fe"
      },
      "source": [
        "<div style=\"background-color:white; display:inline-block;\">\n",
        "  <img src=\"https://pytorch-geometric.readthedocs.io/en/2.6.1/_images/graph.svg\" width=\"400\">\n",
        "</div>\n",
        "We show a simple example of an unweighted and undirected graph with three nodes and four edges. Each node contains exactly one feature:\n"
      ]
    },
    {
      "cell_type": "code",
      "execution_count": 2,
      "id": "92cf1399",
      "metadata": {
        "colab": {
          "base_uri": "https://localhost:8080/"
        },
        "id": "92cf1399",
        "outputId": "c38d73e1-c892-4e99-f445-c3cafa2f7e1c"
      },
      "outputs": [
        {
          "output_type": "execute_result",
          "data": {
            "text/plain": [
              "Data(x=[3, 1], edge_index=[2, 4])"
            ]
          },
          "metadata": {},
          "execution_count": 2
        }
      ],
      "source": [
        "import torch\n",
        "from torch_geometric.data import Data\n",
        "\n",
        "edge_index = torch.tensor([[0, 1, 1, 2],\n",
        "                           [1, 0, 2, 1]], dtype=torch.long)\n",
        "x = torch.tensor([[-1], [0], [1]], dtype=torch.float)\n",
        "\n",
        "data = Data(x=x, edge_index=edge_index)\n",
        "data"
      ]
    },
    {
      "cell_type": "markdown",
      "source": [
        "Data is just a data structure, we can store almost everything in it."
      ],
      "metadata": {
        "id": "Zw-1d7PgdHrD"
      },
      "id": "Zw-1d7PgdHrD"
    },
    {
      "cell_type": "code",
      "source": [
        "import numpy as np\n",
        "data.label1 = [1,2,3]\n",
        "data.label2 = [1,1,1]\n",
        "data.label3 = [1,2,2]"
      ],
      "metadata": {
        "id": "0TRbgo_fdP9r"
      },
      "id": "0TRbgo_fdP9r",
      "execution_count": null,
      "outputs": []
    },
    {
      "cell_type": "markdown",
      "source": [
        "We can construct a graph from an adjacency matrix."
      ],
      "metadata": {
        "id": "bUDS85kMeHmV"
      },
      "id": "bUDS85kMeHmV"
    },
    {
      "cell_type": "code",
      "source": [
        "A = np.array([[0,1,1],\n",
        "              [1,0,1],\n",
        "              [1,1,0]])\n",
        "G = nx.from_numpy_array(A)\n",
        "# show G\n",
        "visualize_graph(G, color='gray')"
      ],
      "metadata": {
        "id": "Ln-5tDszeO0-"
      },
      "id": "Ln-5tDszeO0-",
      "execution_count": null,
      "outputs": []
    },
    {
      "cell_type": "markdown",
      "source": [
        "Note that we stored different labels in data."
      ],
      "metadata": {
        "id": "QjVVFaexfIni"
      },
      "id": "QjVVFaexfIni"
    },
    {
      "cell_type": "code",
      "source": [
        "for label in ['label1', 'label2', 'label3']:\n",
        "  visualize_graph(G, data[label])"
      ],
      "metadata": {
        "id": "j1UISotefDFV"
      },
      "id": "j1UISotefDFV",
      "execution_count": null,
      "outputs": []
    },
    {
      "cell_type": "markdown",
      "source": [
        "The Data object also comes with a number of built-in methods (e.g., checking for isolated nodes, self-loops, or directed edges). These methods use the stored tensors as input and let you interact with the Data object much like a real graph."
      ],
      "metadata": {
        "id": "zmZz0hnCflAJ"
      },
      "id": "zmZz0hnCflAJ"
    },
    {
      "cell_type": "code",
      "execution_count": null,
      "id": "ca058fe7",
      "metadata": {
        "id": "ca058fe7"
      },
      "outputs": [],
      "source": [
        "print(data.num_nodes)\n",
        "\n",
        "print(data.has_isolated_nodes())\n",
        "\n",
        "print(data.has_self_loops())\n",
        "\n",
        "print(data.is_directed())\n",
        "\n",
        "# # Transfer data object to GPU.\n",
        "# device = torch.device('cuda')\n",
        "# data = data.to(device)"
      ]
    },
    {
      "cell_type": "markdown",
      "source": [
        "We can implement these methods by ourselves"
      ],
      "metadata": {
        "id": "4bn4FXeegs9S"
      },
      "id": "4bn4FXeegs9S"
    },
    {
      "cell_type": "code",
      "source": [
        "def has_isolated_nodes(data):\n",
        "    edge_index = data.edge_index\n",
        "    num_nodes = len(data.x)\n",
        "    connected_nodes = torch.unique(edge_index.flatten())\n",
        "    return connected_nodes.numel() < num_nodes\n",
        "has_isolated_nodes(data)\n"
      ],
      "metadata": {
        "colab": {
          "base_uri": "https://localhost:8080/"
        },
        "id": "7wgziG4Sgw7Y",
        "outputId": "28f3df42-8127-49a3-8c3c-d5f16cd7efce"
      },
      "id": "7wgziG4Sgw7Y",
      "execution_count": 3,
      "outputs": [
        {
          "output_type": "execute_result",
          "data": {
            "text/plain": [
              "False"
            ]
          },
          "metadata": {},
          "execution_count": 3
        }
      ]
    },
    {
      "cell_type": "markdown",
      "id": "188392f2",
      "metadata": {
        "id": "188392f2"
      },
      "source": [
        "Data only stores tensors (nodes/edges), ***not a full graph***. We can use data.validate to check if this is a validate graph, with given features. ***Note that the next cell will raise ValueError***."
      ]
    },
    {
      "cell_type": "code",
      "execution_count": null,
      "id": "68d66de3",
      "metadata": {
        "id": "68d66de3"
      },
      "outputs": [],
      "source": [
        "import torch\n",
        "from torch_geometric.data import Data\n",
        "# there is no node 10 in x\n",
        "edge_index = torch.tensor([[0, 1, 1, 10],\n",
        "                           [1, 0, 2, 1]], dtype=torch.long)\n",
        "x = torch.tensor([[-1], [0], [1]], dtype=torch.float)\n",
        "\n",
        "data = Data(x=x, edge_index=edge_index)\n",
        "data.validate(raise_on_error=True)"
      ]
    },
    {
      "cell_type": "markdown",
      "id": "fdfb85ed",
      "metadata": {
        "id": "fdfb85ed"
      },
      "source": [
        "# Train your first GNN"
      ]
    },
    {
      "cell_type": "code",
      "source": [
        "# adapt from https://colab.research.google.com/drive/14OvFnAXggxB8vM4e8vSURUp1TaKnovzX?usp=sharing#scrollTo=F1op-CbyLuN4\n",
        "# Helper function for visualization.\n",
        "%matplotlib inline\n",
        "import matplotlib.pyplot as plt\n",
        "from sklearn.manifold import TSNE\n",
        "\n",
        "def visualize(h, color):\n",
        "    z = TSNE(n_components=2,perplexity=20).fit_transform(h.detach().cpu().numpy())\n",
        "\n",
        "    plt.figure(figsize=(5,5))\n",
        "    plt.xticks([])\n",
        "    plt.yticks([])\n",
        "\n",
        "    plt.scatter(z[:, 0], z[:, 1], s=35, c=color, cmap=\"Set2\")\n",
        "    plt.show()"
      ],
      "metadata": {
        "id": "4UBtqGGFhp1P"
      },
      "id": "4UBtqGGFhp1P",
      "execution_count": null,
      "outputs": []
    },
    {
      "cell_type": "markdown",
      "source": [
        "Cora dataset. A network for scientific publications. Visit https://graphsandnetworks.com/the-cora-dataset/ for a visualization.\n",
        "Let's see how many nodes, edges, and classes are there."
      ],
      "metadata": {
        "id": "QYxGfElDh6VD"
      },
      "id": "QYxGfElDh6VD"
    },
    {
      "cell_type": "code",
      "execution_count": null,
      "id": "9179747e",
      "metadata": {
        "id": "9179747e"
      },
      "outputs": [],
      "source": [
        "from torch_geometric.datasets import Planetoid\n",
        "\n",
        "dataset = Planetoid(root='/tmp/Cora', name='Cora')\n",
        "dataset.data.num_nodes, dataset.data.num_edges, dataset.num_classes"
      ]
    },
    {
      "cell_type": "markdown",
      "source": [
        "Some features we usually care about when we first see a dataset"
      ],
      "metadata": {
        "id": "QiWIpHxYiY4F"
      },
      "id": "QiWIpHxYiY4F"
    },
    {
      "cell_type": "code",
      "source": [
        "data = dataset.data\n",
        "print(data.has_isolated_nodes())\n",
        "\n",
        "print(data.has_self_loops())\n",
        "\n",
        "print(data.is_directed())"
      ],
      "metadata": {
        "id": "pKie53mUiSF4"
      },
      "id": "pKie53mUiSF4",
      "execution_count": null,
      "outputs": []
    },
    {
      "cell_type": "markdown",
      "id": "ff838c0f",
      "metadata": {
        "id": "ff838c0f"
      },
      "source": [
        "For a node classification task, let's use GCN. https://tkipf.github.io/graph-convolutional-networks/ . `nn.GCNConv` is a basic block in `pyg`, like the `nn.linear` in `torch`."
      ]
    },
    {
      "cell_type": "code",
      "execution_count": null,
      "id": "9aa156f9",
      "metadata": {
        "id": "9aa156f9"
      },
      "outputs": [],
      "source": [
        "import torch\n",
        "import torch.nn.functional as F\n",
        "from torch_geometric.nn import GCNConv\n",
        "\n",
        "class GCN(torch.nn.Module):\n",
        "    def __init__(self):\n",
        "        super().__init__()\n",
        "        self.conv1 = GCNConv(dataset.num_node_features, 16)\n",
        "        self.conv2 = GCNConv(16, dataset.num_classes)\n",
        "\n",
        "    def forward(self, data):\n",
        "        x, edge_index = data.x, data.edge_index\n",
        "\n",
        "        x = self.conv1(x, edge_index)\n",
        "        x = F.relu(x)\n",
        "        x = F.dropout(x, training=self.training)\n",
        "        x = self.conv2(x, edge_index)\n",
        "\n",
        "        return F.log_softmax(x, dim=1)\n",
        "gcn = GCN()\n",
        "print(gcn)\n",
        "device = torch.device('cuda' if torch.cuda.is_available() else 'cpu')\n",
        "gcn = gcn.to(device)"
      ]
    },
    {
      "cell_type": "markdown",
      "source": [
        "Train the model"
      ],
      "metadata": {
        "id": "AcDBz-SxlCZe"
      },
      "id": "AcDBz-SxlCZe"
    },
    {
      "cell_type": "code",
      "execution_count": null,
      "id": "331d49e2",
      "metadata": {
        "id": "331d49e2"
      },
      "outputs": [],
      "source": [
        "def train_model(model, data):\n",
        "    device = torch.device('cuda' if torch.cuda.is_available() else 'cpu')\n",
        "    data = data.to(device)\n",
        "    optimizer = torch.optim.Adam(model.parameters(), lr=0.01, weight_decay=5e-4)\n",
        "\n",
        "    model.eval()\n",
        "    with torch.no_grad():\n",
        "      output_before_train = model(data)\n",
        "    model.train()\n",
        "\n",
        "    # ===== Training loop =====\n",
        "    for epoch in range(200):\n",
        "        optimizer.zero_grad()\n",
        "        out = model(data)\n",
        "        loss = F.nll_loss(out[data.train_mask], data.y[data.train_mask])\n",
        "        loss.backward()\n",
        "        optimizer.step()\n",
        "\n",
        "    # ===== Evaluation =====\n",
        "    model.eval()\n",
        "    output_after_train = model(data)\n",
        "    pred = output_after_train.argmax(dim=1)\n",
        "    correct = (pred[data.test_mask] == data.y[data.test_mask]).sum()\n",
        "    acc = int(correct) / int(data.test_mask.sum())\n",
        "    print(f'Accuracy: {acc:.4f}')\n",
        "    return output_before_train, output_after_train\n"
      ]
    },
    {
      "cell_type": "code",
      "execution_count": null,
      "id": "262769b5",
      "metadata": {
        "id": "262769b5"
      },
      "outputs": [],
      "source": [
        "output_before_train, output_after_train = train_model(GCN().to(device), dataset)"
      ]
    },
    {
      "cell_type": "code",
      "source": [
        "visualize(output_before_train, data.y), visualize(output_after_train, data.y)"
      ],
      "metadata": {
        "id": "cwBMwUZ7jv-0"
      },
      "id": "cwBMwUZ7jv-0",
      "execution_count": null,
      "outputs": []
    },
    {
      "cell_type": "markdown",
      "source": [
        "We start with a simple implementation of the **GCN update rule**.  \n",
        "This layer will:  \n",
        "1. Add self-loops  \n",
        "2. Compute normalized messages  \n",
        "3. Aggregate neighbor features  \n",
        "4. Apply a linear transformation  \n",
        "\n",
        "---\n",
        "\n",
        "### GCN update rule\n",
        "\n",
        "The update rule for a node $i$ in Graph Convolutional Networks (GCNs) is:\n",
        "\n",
        "$$\n",
        "h_i^{(l+1)} = \\sigma \\left( \\sum_{j \\in \\mathcal{N}(i) \\cup \\{i\\}} \\frac{1}{d_i} \\, W \\, h_j^{(l)} \\right)\n",
        "$$\n",
        "\n",
        "where:  \n",
        "- $h_i^{(l)}$: feature of node $i$ at layer $l$  \n",
        "- $\\mathcal{N}(i)$: neighbors of node $i$  \n",
        "- $d_i$: degree of node $i$ (including self-loop)  \n",
        "- $W$: learnable weight matrix  \n",
        "- $\\sigma$: activation function (e.g., ReLU)"
      ],
      "metadata": {
        "id": "mK921zXrmgVT"
      },
      "id": "mK921zXrmgVT"
    },
    {
      "cell_type": "code",
      "execution_count": null,
      "id": "58eff034",
      "metadata": {
        "id": "58eff034"
      },
      "outputs": [],
      "source": [
        "import torch\n",
        "import torch.nn as nn\n",
        "import torch.nn.functional as F\n",
        "from torch_geometric.datasets import Planetoid\n",
        "from torch_geometric.utils import add_self_loops, degree\n",
        "\n",
        "class SimpleMessagePassing(nn.Module):\n",
        "    def __init__(self, in_channels, out_channels):\n",
        "        super().__init__()\n",
        "        self.linear = nn.Linear(in_channels, out_channels)\n",
        "\n",
        "    def forward(self, x, edge_index):\n",
        "        num_nodes = x.size(0)\n",
        "\n",
        "        # Add self-loops to each node\n",
        "        edge_index, _ = add_self_loops(edge_index, num_nodes=num_nodes)\n",
        "\n",
        "        row, col = edge_index  # row: target nodes, col: source nodes\n",
        "\n",
        "        # Compute node degrees (number of incoming edges per node)\n",
        "        deg = degree(row, num_nodes=num_nodes, dtype=x.dtype)  # shape: [num_nodes]\n",
        "        deg_inv = deg.pow(-1)  # D^(-1)\n",
        "        deg_inv[deg_inv == float('inf')] = 0  # handle divide-by-zero\n",
        "\n",
        "        # Normalize the messages with D^(-1)\n",
        "        norm = deg_inv[row]  # shape: [num_edges]\n",
        "\n",
        "        # Compute messages sent along edges\n",
        "        messages = norm.unsqueeze(1) * x[col]  # shape: [num_edges, in_channels]\n",
        "        # Initialize aggregated output\n",
        "        out = torch.zeros_like(x)  # shape: [num_nodes, in_channels]\n",
        "        # Aggregate messages from neighbors\n",
        "        out = out.index_add(0, row, messages)\n",
        "\n",
        "        # Apply linear transformation\n",
        "        return self.linear(out)\n",
        "\n",
        "class SimpleGCN(nn.Module):\n",
        "    def __init__(self, dataset, hidden=16):\n",
        "        super().__init__()\n",
        "        self.conv1 = SimpleMessagePassing(dataset.num_node_features, hidden)\n",
        "        self.conv2 = SimpleMessagePassing(hidden, dataset.num_classes)\n",
        "\n",
        "    def forward(self, data):\n",
        "        x, edge_index = data.x, data.edge_index\n",
        "        x = self.conv1(x, edge_index)\n",
        "        x = F.relu(x)\n",
        "        x = self.conv2(x, edge_index)\n",
        "        return F.log_softmax(x, dim=1)  # for classification\n",
        "\n"
      ]
    },
    {
      "cell_type": "code",
      "execution_count": null,
      "id": "416d45c1",
      "metadata": {
        "id": "416d45c1"
      },
      "outputs": [],
      "source": [
        "# ===== Training setup =====\n",
        "device = torch.device('cuda' if torch.cuda.is_available() else 'cpu')\n",
        "model = SimpleGCN(dataset).to(device)\n",
        "output_before_train, output_after_train =  train_model(model, data)"
      ]
    },
    {
      "cell_type": "code",
      "source": [
        "visualize(output_before_train, data.y), visualize(output_after_train, data.y)"
      ],
      "metadata": {
        "id": "NN--dVQFnTHY"
      },
      "id": "NN--dVQFnTHY",
      "execution_count": null,
      "outputs": []
    }
  ],
  "metadata": {
    "kernelspec": {
      "display_name": "mlg",
      "language": "python",
      "name": "python3"
    },
    "language_info": {
      "codemirror_mode": {
        "name": "ipython",
        "version": 3
      },
      "file_extension": ".py",
      "mimetype": "text/x-python",
      "name": "python",
      "nbconvert_exporter": "python",
      "pygments_lexer": "ipython3",
      "version": "3.12.11"
    },
    "colab": {
      "provenance": []
    }
  },
  "nbformat": 4,
  "nbformat_minor": 5
}