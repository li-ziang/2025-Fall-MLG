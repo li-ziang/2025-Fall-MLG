{
 "cells": [
  {
   "cell_type": "code",
   "execution_count": null,
   "id": "0bf79337",
   "metadata": {},
   "outputs": [],
   "source": [
    "# https://pytorch-geometric.readthedocs.io/en/2.6.1/get_started/introduction.html\n",
    "# Author: Ziang Li. 08/28/2025"
   ]
  },
  {
   "cell_type": "markdown",
   "id": "586efbb2",
   "metadata": {},
   "source": [
    "# How to Construct a graph"
   ]
  },
  {
   "cell_type": "markdown",
   "id": "8d62e2fe",
   "metadata": {},
   "source": [
    "<div style=\"background-color:white; display:inline-block;\">\n",
    "  <img src=\"https://pytorch-geometric.readthedocs.io/en/2.6.1/_images/graph.svg\" width=\"400\">\n",
    "</div>\n",
    "We show a simple example of an unweighted and undirected graph with three nodes and four edges. Each node contains exactly one feature:\n"
   ]
  },
  {
   "cell_type": "code",
   "execution_count": 1,
   "id": "92cf1399",
   "metadata": {},
   "outputs": [
    {
     "data": {
      "text/plain": [
       "Data(x=[3, 1], edge_index=[2, 4])"
      ]
     },
     "execution_count": 1,
     "metadata": {},
     "output_type": "execute_result"
    }
   ],
   "source": [
    "import torch\n",
    "from torch_geometric.data import Data\n",
    "\n",
    "edge_index = torch.tensor([[0, 1, 1, 2],\n",
    "                           [1, 0, 2, 1]], dtype=torch.long)\n",
    "x = torch.tensor([[-1], [0], [1]], dtype=torch.float)\n",
    "\n",
    "data = Data(x=x, edge_index=edge_index)\n",
    "data"
   ]
  },
  {
   "cell_type": "code",
   "execution_count": 2,
   "id": "ca058fe7",
   "metadata": {},
   "outputs": [
    {
     "name": "stdout",
     "output_type": "stream",
     "text": [
      "3\n",
      "False\n",
      "False\n",
      "False\n"
     ]
    }
   ],
   "source": [
    "print(data.num_nodes)\n",
    "\n",
    "print(data.has_isolated_nodes())\n",
    "\n",
    "print(data.has_self_loops())\n",
    "\n",
    "print(data.is_directed())\n",
    "\n",
    "# # Transfer data object to GPU.\n",
    "# device = torch.device('cuda')\n",
    "# data = data.to(device)"
   ]
  },
  {
   "cell_type": "markdown",
   "id": "188392f2",
   "metadata": {},
   "source": [
    "Data only stores tensors (nodes/edges), ***not a full graph***."
   ]
  },
  {
   "cell_type": "code",
   "execution_count": 5,
   "id": "68d66de3",
   "metadata": {},
   "outputs": [
    {
     "ename": "ValueError",
     "evalue": "'edge_index' contains larger indices than the number of nodes (3) in 'Data' (found 10)",
     "output_type": "error",
     "traceback": [
      "\u001b[31m---------------------------------------------------------------------------\u001b[39m",
      "\u001b[31mValueError\u001b[39m                                Traceback (most recent call last)",
      "\u001b[36mCell\u001b[39m\u001b[36m \u001b[39m\u001b[32mIn[5]\u001b[39m\u001b[32m, line 9\u001b[39m\n\u001b[32m      6\u001b[39m x = torch.tensor([[-\u001b[32m1\u001b[39m], [\u001b[32m0\u001b[39m], [\u001b[32m1\u001b[39m]], dtype=torch.float)\n\u001b[32m      8\u001b[39m data = Data(x=x, edge_index=edge_index)\n\u001b[32m----> \u001b[39m\u001b[32m9\u001b[39m \u001b[43mdata\u001b[49m\u001b[43m.\u001b[49m\u001b[43mvalidate\u001b[49m\u001b[43m(\u001b[49m\u001b[43mraise_on_error\u001b[49m\u001b[43m=\u001b[49m\u001b[38;5;28;43;01mTrue\u001b[39;49;00m\u001b[43m)\u001b[49m\n",
      "\u001b[36mFile \u001b[39m\u001b[32m~/DATA-nash/miniconda3/envs/mlg/lib/python3.12/site-packages/torch_geometric/data/data.py:695\u001b[39m, in \u001b[36mData.validate\u001b[39m\u001b[34m(self, raise_on_error)\u001b[39m\n\u001b[32m    693\u001b[39m     \u001b[38;5;28;01mif\u001b[39;00m num_nodes \u001b[38;5;129;01mis\u001b[39;00m \u001b[38;5;129;01mnot\u001b[39;00m \u001b[38;5;28;01mNone\u001b[39;00m \u001b[38;5;129;01mand\u001b[39;00m \u001b[38;5;28mself\u001b[39m.edge_index.max() >= num_nodes:\n\u001b[32m    694\u001b[39m         status = \u001b[38;5;28;01mFalse\u001b[39;00m\n\u001b[32m--> \u001b[39m\u001b[32m695\u001b[39m         \u001b[43mwarn_or_raise\u001b[49m\u001b[43m(\u001b[49m\n\u001b[32m    696\u001b[39m \u001b[43m            \u001b[49m\u001b[33;43mf\u001b[39;49m\u001b[33;43m\"\u001b[39;49m\u001b[33;43m'\u001b[39;49m\u001b[33;43medge_index\u001b[39;49m\u001b[33;43m'\u001b[39;49m\u001b[33;43m contains larger indices than the number \u001b[39;49m\u001b[33;43m\"\u001b[39;49m\n\u001b[32m    697\u001b[39m \u001b[43m            \u001b[49m\u001b[33;43mf\u001b[39;49m\u001b[33;43m\"\u001b[39;49m\u001b[33;43mof nodes (\u001b[39;49m\u001b[38;5;132;43;01m{\u001b[39;49;00m\u001b[43mnum_nodes\u001b[49m\u001b[38;5;132;43;01m}\u001b[39;49;00m\u001b[33;43m) in \u001b[39;49m\u001b[33;43m'\u001b[39;49m\u001b[38;5;132;43;01m{\u001b[39;49;00m\u001b[43mcls_name\u001b[49m\u001b[38;5;132;43;01m}\u001b[39;49;00m\u001b[33;43m'\u001b[39;49m\u001b[33;43m \u001b[39;49m\u001b[33;43m\"\u001b[39;49m\n\u001b[32m    698\u001b[39m \u001b[43m            \u001b[49m\u001b[33;43mf\u001b[39;49m\u001b[33;43m\"\u001b[39;49m\u001b[33;43m(found \u001b[39;49m\u001b[38;5;132;43;01m{\u001b[39;49;00m\u001b[38;5;28;43mint\u001b[39;49m\u001b[43m(\u001b[49m\u001b[38;5;28;43mself\u001b[39;49m\u001b[43m.\u001b[49m\u001b[43medge_index\u001b[49m\u001b[43m.\u001b[49m\u001b[43mmax\u001b[49m\u001b[43m(\u001b[49m\u001b[43m)\u001b[49m\u001b[43m)\u001b[49m\u001b[38;5;132;43;01m}\u001b[39;49;00m\u001b[33;43m)\u001b[39;49m\u001b[33;43m\"\u001b[39;49m\u001b[43m,\u001b[49m\u001b[43m \u001b[49m\u001b[43mraise_on_error\u001b[49m\u001b[43m)\u001b[49m\n\u001b[32m    700\u001b[39m \u001b[38;5;28;01mreturn\u001b[39;00m status\n",
      "\u001b[36mFile \u001b[39m\u001b[32m~/DATA-nash/miniconda3/envs/mlg/lib/python3.12/site-packages/torch_geometric/data/data.py:1188\u001b[39m, in \u001b[36mwarn_or_raise\u001b[39m\u001b[34m(msg, raise_on_error)\u001b[39m\n\u001b[32m   1186\u001b[39m \u001b[38;5;28;01mdef\u001b[39;00m\u001b[38;5;250m \u001b[39m\u001b[34mwarn_or_raise\u001b[39m(msg: \u001b[38;5;28mstr\u001b[39m, raise_on_error: \u001b[38;5;28mbool\u001b[39m = \u001b[38;5;28;01mTrue\u001b[39;00m):\n\u001b[32m   1187\u001b[39m     \u001b[38;5;28;01mif\u001b[39;00m raise_on_error:\n\u001b[32m-> \u001b[39m\u001b[32m1188\u001b[39m         \u001b[38;5;28;01mraise\u001b[39;00m \u001b[38;5;167;01mValueError\u001b[39;00m(msg)\n\u001b[32m   1189\u001b[39m     \u001b[38;5;28;01melse\u001b[39;00m:\n\u001b[32m   1190\u001b[39m         warnings.warn(msg)\n",
      "\u001b[31mValueError\u001b[39m: 'edge_index' contains larger indices than the number of nodes (3) in 'Data' (found 10)"
     ]
    }
   ],
   "source": [
    "import torch\n",
    "from torch_geometric.data import Data\n",
    "# there is no node 10 in x\n",
    "edge_index = torch.tensor([[0, 1, 1, 10],\n",
    "                           [1, 0, 2, 1]], dtype=torch.long)\n",
    "x = torch.tensor([[-1], [0], [1]], dtype=torch.float)\n",
    "\n",
    "data = Data(x=x, edge_index=edge_index)\n",
    "data.validate(raise_on_error=True)"
   ]
  },
  {
   "cell_type": "markdown",
   "id": "e1c6617d",
   "metadata": {},
   "source": [
    "We can also construct from networkx"
   ]
  },
  {
   "cell_type": "code",
   "execution_count": 8,
   "id": "31dc286c",
   "metadata": {},
   "outputs": [
    {
     "name": "stdout",
     "output_type": "stream",
     "text": [
      "Data(edge_index=[2, 6], weight=[6], num_nodes=3)\n"
     ]
    }
   ],
   "source": [
    "import torch\n",
    "import networkx as nx\n",
    "import numpy as np\n",
    "from torch_geometric.utils import from_networkx\n",
    "\n",
    "A = np.array([[0,1,1],\n",
    "              [1,0,1],\n",
    "              [1,1,0]])\n",
    "G = nx.from_numpy_array(A)\n",
    "\n",
    "data = from_networkx(G)\n",
    "\n",
    "print(data)\n",
    "# Data(edge_index=[2, num_edges], num_nodes=3)\n"
   ]
  },
  {
   "cell_type": "markdown",
   "id": "fdfb85ed",
   "metadata": {},
   "source": [
    "# Train your first GNN"
   ]
  },
  {
   "cell_type": "code",
   "execution_count": 1,
   "id": "9179747e",
   "metadata": {},
   "outputs": [
    {
     "name": "stderr",
     "output_type": "stream",
     "text": [
      "/nethome/zli3161/DATA-nash/miniconda3/envs/mlg/lib/python3.12/site-packages/torch_geometric/data/in_memory_dataset.py:300: UserWarning: It is not recommended to directly access the internal storage format `data` of an 'InMemoryDataset'. If you are absolutely certain what you are doing, access the internal storage via `InMemoryDataset._data` instead to suppress this warning. Alternatively, you can access stacked individual attributes of every graph via `dataset.{attr_name}`.\n",
      "  warnings.warn(msg)\n"
     ]
    },
    {
     "data": {
      "text/plain": [
       "(2708, 10556, 7)"
      ]
     },
     "execution_count": 1,
     "metadata": {},
     "output_type": "execute_result"
    }
   ],
   "source": [
    "from torch_geometric.datasets import Planetoid\n",
    "\n",
    "dataset = Planetoid(root='/tmp/Cora', name='Cora')\n",
    "dataset.data.num_nodes, dataset.data.num_edges, dataset.num_classes"
   ]
  },
  {
   "cell_type": "markdown",
   "id": "ff838c0f",
   "metadata": {},
   "source": [
    "For a node classification task"
   ]
  },
  {
   "cell_type": "code",
   "execution_count": 19,
   "id": "9aa156f9",
   "metadata": {},
   "outputs": [],
   "source": [
    "import torch\n",
    "import torch.nn.functional as F\n",
    "from torch_geometric.nn import GCNConv\n",
    "\n",
    "class GCN(torch.nn.Module):\n",
    "    def __init__(self):\n",
    "        super().__init__()\n",
    "        self.conv1 = GCNConv(dataset.num_node_features, 16)\n",
    "        self.conv2 = GCNConv(16, dataset.num_classes)\n",
    "\n",
    "    def forward(self, data):\n",
    "        x, edge_index = data.x, data.edge_index\n",
    "\n",
    "        x = self.conv1(x, edge_index)\n",
    "        x = F.relu(x)\n",
    "        x = F.dropout(x, training=self.training)\n",
    "        x = self.conv2(x, edge_index)\n",
    "\n",
    "        return F.log_softmax(x, dim=1)"
   ]
  },
  {
   "cell_type": "code",
   "execution_count": 20,
   "id": "331d49e2",
   "metadata": {},
   "outputs": [],
   "source": [
    "def train_model(model, data):\n",
    "    device = torch.device('cuda' if torch.cuda.is_available() else 'cpu')\n",
    "    data = data.to(device)\n",
    "    optimizer = torch.optim.Adam(model.parameters(), lr=0.01, weight_decay=5e-4)\n",
    "\n",
    "    # ===== Training loop =====\n",
    "    model.train()\n",
    "    for epoch in range(200):\n",
    "        optimizer.zero_grad()\n",
    "        out = model(data)\n",
    "        loss = F.nll_loss(out[data.train_mask], data.y[data.train_mask])\n",
    "        loss.backward()\n",
    "        optimizer.step()\n",
    "\n",
    "    # ===== Evaluation =====\n",
    "    model.eval()\n",
    "    pred = model(data).argmax(dim=1)\n",
    "    correct = (pred[data.test_mask] == data.y[data.test_mask]).sum()\n",
    "    acc = int(correct) / int(data.test_mask.sum())\n",
    "    print(f'Accuracy: {acc:.4f}')\n"
   ]
  },
  {
   "cell_type": "code",
   "execution_count": 24,
   "id": "262769b5",
   "metadata": {},
   "outputs": [
    {
     "name": "stdout",
     "output_type": "stream",
     "text": [
      "Accuracy: 0.8090\n"
     ]
    }
   ],
   "source": [
    "device = torch.device('cuda' if torch.cuda.is_available() else 'cpu')\n",
    "train_model(GCN().to(device), dataset)"
   ]
  },
  {
   "cell_type": "code",
   "execution_count": 18,
   "id": "58eff034",
   "metadata": {},
   "outputs": [],
   "source": [
    "import torch\n",
    "import torch.nn as nn\n",
    "import torch.nn.functional as F\n",
    "from torch_geometric.datasets import Planetoid\n",
    "from torch_geometric.utils import add_self_loops, degree\n",
    "\n",
    "# ===== Define a simple message passing layer (like GCNConv) =====\n",
    "class SimpleMessagePassing(nn.Module):\n",
    "    def __init__(self, in_channels, out_channels):\n",
    "        super().__init__()\n",
    "        self.linear = nn.Linear(in_channels, out_channels)\n",
    "\n",
    "    def forward(self, x, edge_index):\n",
    "        num_nodes = x.size(0)\n",
    "\n",
    "        # Add self-loops to each node\n",
    "        edge_index, _ = add_self_loops(edge_index, num_nodes=num_nodes)\n",
    "\n",
    "        row, col = edge_index  # row: target nodes, col: source nodes\n",
    "\n",
    "        # Compute node degrees (number of incoming edges per node)\n",
    "        deg = degree(row, num_nodes=num_nodes, dtype=x.dtype)  # shape: [num_nodes]\n",
    "        deg_inv = deg.pow(-1)  # D^(-1)\n",
    "        deg_inv[deg_inv == float('inf')] = 0  # handle divide-by-zero\n",
    "\n",
    "        # Normalize the messages with D^(-1)\n",
    "        norm = deg_inv[row]  # shape: [num_edges]\n",
    "\n",
    "        # Compute messages sent along edges\n",
    "        messages = norm.unsqueeze(1) * x[col]  # shape: [num_edges, in_channels]\n",
    "\n",
    "        # Initialize aggregated output\n",
    "        out = torch.zeros_like(x)  # shape: [num_nodes, in_channels]\n",
    "\n",
    "        # Aggregate messages from neighbors\n",
    "        out = out.index_add(0, row, messages)\n",
    "\n",
    "        # Apply linear transformation\n",
    "        return self.linear(out)\n",
    "\n",
    "# ===== Define a simple 2-layer GCN =====\n",
    "class SimpleGCN(nn.Module):\n",
    "    def __init__(self, dataset, hidden=16):\n",
    "        super().__init__()\n",
    "        self.conv1 = SimpleMessagePassing(dataset.num_node_features, hidden)\n",
    "        self.conv2 = SimpleMessagePassing(hidden, dataset.num_classes)\n",
    "\n",
    "    def forward(self, data):\n",
    "        x, edge_index = data.x, data.edge_index\n",
    "        x = self.conv1(x, edge_index)\n",
    "        x = F.relu(x)\n",
    "        x = self.conv2(x, edge_index)\n",
    "        return F.log_softmax(x, dim=1)  # for classification\n",
    "\n"
   ]
  },
  {
   "cell_type": "code",
   "execution_count": 17,
   "id": "416d45c1",
   "metadata": {},
   "outputs": [
    {
     "name": "stdout",
     "output_type": "stream",
     "text": [
      "Accuracy: 0.8150\n"
     ]
    }
   ],
   "source": [
    "# ===== Training setup =====\n",
    "device = torch.device('cuda' if torch.cuda.is_available() else 'cpu')\n",
    "model = SimpleGCN(dataset).to(device)\n",
    "train_model(model, data)"
   ]
  }
 ],
 "metadata": {
  "kernelspec": {
   "display_name": "mlg",
   "language": "python",
   "name": "python3"
  },
  "language_info": {
   "codemirror_mode": {
    "name": "ipython",
    "version": 3
   },
   "file_extension": ".py",
   "mimetype": "text/x-python",
   "name": "python",
   "nbconvert_exporter": "python",
   "pygments_lexer": "ipython3",
   "version": "3.12.11"
  }
 },
 "nbformat": 4,
 "nbformat_minor": 5
}
